{
 "cells": [
  {
   "cell_type": "markdown",
   "id": "1cf9f329-9bfd-4a0a-a730-4705108dd14f",
   "metadata": {},
   "source": [
    "# NORMALIZATION PROBLEM"
   ]
  },
  {
   "cell_type": "code",
   "execution_count": 16,
   "id": "f86822e9-7c29-45ae-b51c-20eeda08c003",
   "metadata": {},
   "outputs": [
    {
     "name": "stdout",
     "output_type": "stream",
     "text": [
      "Original Array:\n",
      " [[0.16308214 0.31883791 0.97089049 0.61858942 0.96426956]\n",
      " [0.67146448 0.95398392 0.81408226 0.4207942  0.09930478]\n",
      " [0.62560672 0.51656225 0.29996069 0.23076427 0.6780331 ]\n",
      " [0.31896458 0.24110542 0.74231272 0.26688078 0.58554828]\n",
      " [0.41493015 0.93852747 0.00642389 0.56736883 0.38453586]] \n",
      "Normalized Array:\n",
      " [[-1.25561178 -0.6959337   1.64709059  0.38116512  1.62329955]\n",
      " [ 0.57116139  1.5863401   1.08363066 -0.32957357 -1.48478333]\n",
      " [ 0.40638043  0.0145503  -0.76376532 -1.01240919  0.59476444]\n",
      " [-0.69547852 -0.97525029  0.82574076 -0.88263152  0.2624382 ]\n",
      " [-0.35064488  1.53080034 -1.81853277  0.19711389 -0.45986089]]\n"
     ]
    }
   ],
   "source": [
    "import numpy as np\n",
    "\n",
    "#Create a random 5x5 array and store it in variable X \n",
    "X = np.random.rand(5, 5) \n",
    "\n",
    "#Normalize the array using the formula \n",
    "X_normalized = (X - X.mean()) / X.std()\n",
    "\n",
    "#Save the normalized ndarray as X_normalized.npy\n",
    "np.save('div_by_3.npy', Div_by_3)\n",
    "\n",
    "#Print the output of the original and normalized arrays\n",
    "print(\"Original Array:\\n\", X, \"\\nNormalized Array:\\n\", X_normalized)"
   ]
  },
  {
   "cell_type": "markdown",
   "id": "6e222f31-3586-4adf-851d-6bcf27896ee4",
   "metadata": {},
   "source": [
    "# DIVISIBLE BY 3 PROBLEM"
   ]
  },
  {
   "cell_type": "code",
   "execution_count": 48,
   "id": "0da47965-763c-484b-abfe-1b28b312c052",
   "metadata": {},
   "outputs": [
    {
     "name": "stdout",
     "output_type": "stream",
     "text": [
      "A =\n",
      " [[    1     4     9    16    25    36    49    64    81   100]\n",
      " [  121   144   169   196   225   256   289   324   361   400]\n",
      " [  441   484   529   576   625   676   729   784   841   900]\n",
      " [  961  1024  1089  1156  1225  1296  1369  1444  1521  1600]\n",
      " [ 1681  1764  1849  1936  2025  2116  2209  2304  2401  2500]\n",
      " [ 2601  2704  2809  2916  3025  3136  3249  3364  3481  3600]\n",
      " [ 3721  3844  3969  4096  4225  4356  4489  4624  4761  4900]\n",
      " [ 5041  5184  5329  5476  5625  5776  5929  6084  6241  6400]\n",
      " [ 6561  6724  6889  7056  7225  7396  7569  7744  7921  8100]\n",
      " [ 8281  8464  8649  8836  9025  9216  9409  9604  9801 10000]] \n",
      "Elements divisible by 3:\n",
      " [   9   36   81  144  225  324  441  576  729  900 1089 1296 1521 1764\n",
      " 2025 2304 2601 2916 3249 3600 3969 4356 4761 5184 5625 6084 6561 7056\n",
      " 7569 8100 8649 9216 9801]\n"
     ]
    }
   ],
   "source": [
    "import numpy as np\n",
    "\n",
    "#Create an array of the first 100 positive integers\n",
    "n = np.arange(1,101)\n",
    "\n",
    "#Square every element\n",
    "A_squared = np.square(n)\n",
    "\n",
    "#Resize into a 10x10 ndarray\n",
    "A = A_squared.reshape(10,10)\n",
    "\n",
    "#Determine the elements divisible by 3\n",
    "Div_by_3 = A[A % 3 == 0]\n",
    "\n",
    "#Save the result as div_by_3.npy\n",
    "np.save('div_by_3.npy', Div_by_3)\n",
    "\n",
    "#Print the output of \"A\" and \"div_by_3\"\n",
    "print(\"A =\\n\", A, \"\\nElements divisible by 3:\\n\", Div_by_3)"
   ]
  },
  {
   "cell_type": "code",
   "execution_count": null,
   "id": "3e480057-1e75-4a46-b2f9-bea539ba9b94",
   "metadata": {},
   "outputs": [],
   "source": []
  }
 ],
 "metadata": {
  "kernelspec": {
   "display_name": "Python 3 (ipykernel)",
   "language": "python",
   "name": "python3"
  },
  "language_info": {
   "codemirror_mode": {
    "name": "ipython",
    "version": 3
   },
   "file_extension": ".py",
   "mimetype": "text/x-python",
   "name": "python",
   "nbconvert_exporter": "python",
   "pygments_lexer": "ipython3",
   "version": "3.12.4"
  }
 },
 "nbformat": 4,
 "nbformat_minor": 5
}
